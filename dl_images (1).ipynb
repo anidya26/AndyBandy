{
  "nbformat": 4,
  "nbformat_minor": 0,
  "metadata": {
    "colab": {
      "provenance": []
    },
    "kernelspec": {
      "name": "python3",
      "display_name": "Python 3"
    },
    "language_info": {
      "name": "python"
    }
  },
  "cells": [
    {
      "cell_type": "code",
      "execution_count": null,
      "metadata": {
        "id": "DCcoYbFd1fXe"
      },
      "outputs": [],
      "source": [
        "import numpy as np\n",
        "import os\n",
        "import cv2\n",
        "import matplotlib.pyplot as plt"
      ]
    },
    {
      "cell_type": "code",
      "source": [
        "from google.colab import drive"
      ],
      "metadata": {
        "id": "A69rq-RR1qB3"
      },
      "execution_count": null,
      "outputs": []
    },
    {
      "cell_type": "code",
      "source": [
        "drive.mount('/content/drive')"
      ],
      "metadata": {
        "colab": {
          "base_uri": "https://localhost:8080/"
        },
        "id": "6YlJHbzp16d1",
        "outputId": "76fde8c4-92b2-4073-b850-bf618cff4384"
      },
      "execution_count": null,
      "outputs": [
        {
          "output_type": "stream",
          "name": "stdout",
          "text": [
            "Mounted at /content/drive\n"
          ]
        }
      ]
    },
    {
      "cell_type": "code",
      "source": [
        "image = '/content/drive/MyDrive/img'"
      ],
      "metadata": {
        "id": "Y7ekBcLZ2GOJ"
      },
      "execution_count": null,
      "outputs": []
    },
    {
      "cell_type": "code",
      "source": [
        "image"
      ],
      "metadata": {
        "colab": {
          "base_uri": "https://localhost:8080/",
          "height": 35
        },
        "id": "klGxxQ2z3CzT",
        "outputId": "bbe2bec4-8f2c-419a-da73-f8995a122a6b"
      },
      "execution_count": null,
      "outputs": [
        {
          "output_type": "execute_result",
          "data": {
            "text/plain": [
              "'/content/drive/MyDrive/img'"
            ],
            "application/vnd.google.colaboratory.intrinsic+json": {
              "type": "string"
            }
          },
          "metadata": {},
          "execution_count": 10
        }
      ]
    },
    {
      "cell_type": "code",
      "source": [
        "len(os.listdir(image))"
      ],
      "metadata": {
        "colab": {
          "base_uri": "https://localhost:8080/"
        },
        "id": "-Ewntk0r3DXC",
        "outputId": "3a3b39ec-2414-40ab-8a7e-78b3891d48a1"
      },
      "execution_count": null,
      "outputs": [
        {
          "output_type": "execute_result",
          "data": {
            "text/plain": [
              "2"
            ]
          },
          "metadata": {},
          "execution_count": 12
        }
      ]
    },
    {
      "cell_type": "code",
      "source": [
        "def load_img(image):\n",
        "  img =[]\n",
        "  for i in os.listdir(image):\n",
        "    img1 = cv2.imread(os.path.join(image,i))\n",
        "    img1 = cv2.cvtColor(img1, cv2.COLOR_BGR2GRAY)\n",
        "    img1 = cv2.resize(img1, (256, 256))\n",
        "    img.append(img1)\n",
        "\n",
        "  return img\n",
        "\n"
      ],
      "metadata": {
        "id": "jMEoB8zH3p-a"
      },
      "execution_count": null,
      "outputs": []
    },
    {
      "cell_type": "code",
      "source": [
        "img2=load_img(image)"
      ],
      "metadata": {
        "id": "Ik5tTvbA5BrD"
      },
      "execution_count": null,
      "outputs": []
    },
    {
      "cell_type": "code",
      "source": [
        "img2[1].shape"
      ],
      "metadata": {
        "colab": {
          "base_uri": "https://localhost:8080/"
        },
        "id": "kY9R112O51Cp",
        "outputId": "54814ac0-f496-43b8-ba91-39d9199ce5f2"
      },
      "execution_count": null,
      "outputs": [
        {
          "output_type": "execute_result",
          "data": {
            "text/plain": [
              "(256, 256)"
            ]
          },
          "metadata": {},
          "execution_count": 24
        }
      ]
    },
    {
      "cell_type": "code",
      "source": [
        "im2 = img2[0].reshape(-1,1)\n",
        "im2.shape"
      ],
      "metadata": {
        "colab": {
          "base_uri": "https://localhost:8080/"
        },
        "id": "6fzPNhiW6C0I",
        "outputId": "9f053cea-0430-4fb3-d8c7-34fbe58a8812"
      },
      "execution_count": null,
      "outputs": [
        {
          "output_type": "execute_result",
          "data": {
            "text/plain": [
              "(65536, 1)"
            ]
          },
          "metadata": {},
          "execution_count": 25
        }
      ]
    },
    {
      "cell_type": "code",
      "source": [
        "def get_array2(image):\n",
        "    arrays = np.array(load_img(image))\n",
        "    arrays = np.reshape(arrays, (arrays.shape[0], arrays.shape[1]*arrays.shape[2]))\n",
        "    return arrays, arrays.shape[0]"
      ],
      "metadata": {
        "id": "7Xhjzlvu8xj5"
      },
      "execution_count": null,
      "outputs": []
    },
    {
      "cell_type": "code",
      "source": [
        "arrays, shape =get_array2(image)"
      ],
      "metadata": {
        "id": "JIVkKaHd9yOb"
      },
      "execution_count": null,
      "outputs": []
    },
    {
      "cell_type": "code",
      "source": [
        "arrays.shape"
      ],
      "metadata": {
        "colab": {
          "base_uri": "https://localhost:8080/"
        },
        "id": "EfQM9IPG90_R",
        "outputId": "39c396b3-1354-4600-9e05-8515083c296a"
      },
      "execution_count": null,
      "outputs": [
        {
          "output_type": "execute_result",
          "data": {
            "text/plain": [
              "(2, 65536)"
            ]
          },
          "metadata": {},
          "execution_count": 30
        }
      ]
    },
    {
      "cell_type": "code",
      "source": [
        "X = arrays.T"
      ],
      "metadata": {
        "id": "o_Axff7v970R"
      },
      "execution_count": null,
      "outputs": []
    },
    {
      "cell_type": "code",
      "source": [
        "X.shape"
      ],
      "metadata": {
        "colab": {
          "base_uri": "https://localhost:8080/"
        },
        "id": "UQzSDvve-TCA",
        "outputId": "1322388e-793c-4a13-dd83-fead78a70469"
      },
      "execution_count": null,
      "outputs": [
        {
          "output_type": "execute_result",
          "data": {
            "text/plain": [
              "(65536, 2)"
            ]
          },
          "metadata": {},
          "execution_count": 33
        }
      ]
    },
    {
      "cell_type": "code",
      "source": [
        "np.random.seed(6)\n",
        "Y=(np.random.randn(1,2)>0)\n",
        "print(Y)"
      ],
      "metadata": {
        "colab": {
          "base_uri": "https://localhost:8080/"
        },
        "id": "AJwZFUxs-UBa",
        "outputId": "d8695285-7311-4787-efb0-060b6156b0d3"
      },
      "execution_count": null,
      "outputs": [
        {
          "output_type": "stream",
          "name": "stdout",
          "text": [
            "[[False  True]]\n"
          ]
        }
      ]
    },
    {
      "cell_type": "code",
      "source": [
        "def sigmoid(z):\n",
        "  s=1/(1+np.exp(-z))\n",
        "  return s\n",
        "def relu(x):\n",
        "  s = np.maximum(0,x)\n",
        "  return s\n",
        "\n",
        "def layer_sizes(X, Y):\n",
        "    n_x=X.shape[0]\n",
        "    n_h=4\n",
        "    n_y=Y.shape[0]\n",
        "    return (n_x,n_h,n_y)\n",
        "\n",
        "def initialize_parameters(n_x, n_h, n_y):\n",
        "    np.random.seed(2) # we set up a seed so that your output matches ours although the initialization is random.\n",
        "    \n",
        "    W1 = np.random.randn(4,65536)*0.01  ##n_h=4,n_x=2\n",
        "    b1 = np.zeros((4,1))          ##n_h=4\n",
        "    W2 = np.random.randn(1,4)*0.01   ##n_y=1,n_h=4\n",
        "    b2 = np.zeros((1,1))            ##n_y=1\n",
        "\n",
        "    parameters = {\"W1\": W1,\n",
        "                  \"b1\": b1,\n",
        "                  \"W2\": W2,\n",
        "                  \"b2\": b2}\n",
        "    return parameters\n",
        "\n",
        "def forward_propagation(X, parameters):\n",
        "    W1 = parameters[\"W1\"]\n",
        "    b1 = parameters[\"b1\"]\n",
        "    W2 = parameters[\"W2\"]\n",
        "    b2 = parameters[\"b2\"]\n",
        "\n",
        "    Z1 = np.dot(W1,X)+b1\n",
        "    A1 = np.tanh(Z1)\n",
        "    Z2 = np.dot(W2,A1)+b2\n",
        "    A2 = sigmoid(Z2)\n",
        "\n",
        "    cache = {\"Z1\": Z1,\n",
        "             \"A1\": A1,\n",
        "             \"Z2\": Z2,\n",
        "             \"A2\": A2}\n",
        "    \n",
        "    return A2, cache\n",
        "\n",
        "def compute_cost(A2, Y, parameters):\n",
        "    m=Y.shape[1]\n",
        "    logprobs = np.multiply(np.log(A2),Y)+np.multiply(np.log(1-A2),(1-Y))\n",
        "    cost = -np.sum(logprobs)/m\n",
        "    cost = float(np.squeeze(cost))\n",
        "    return cost\n",
        "\n",
        "def BWP(parameters,cache,X,Y):\n",
        "  W1=parameters[\"W1\"]\n",
        "  b1=parameters[\"b1\"]\n",
        "  W2=parameters[\"W2\"]\n",
        "  b2=parameters[\"b2\"]\n",
        "\n",
        "  A1=cache[\"A1\"]\n",
        "  A2=cache[\"A2\"]\n",
        "\n",
        "  m=Y.size\n",
        "\n",
        "  dZ2=A2-Y\n",
        "  dW2=np.dot(dZ2,A1.T)/m\n",
        "  db2=np.sum(dZ2,axis=1,keepdims=True)/m\n",
        "  dA1=np.dot(W2.T,dZ2)\n",
        "  dZ1=dA1*(1-np.power(A1,2))\n",
        "  dW1=np.dot(dZ1,X.T)/m\n",
        "  db1=np.sum(dZ1,axis=1,keepdims=True)/m\n",
        "\n",
        "  grades={\"dW2\":dW2,\"db2\":db2,\"dW1\":dW1,\"db1\":db1}\n",
        "\n",
        "  return grades\n",
        "\n",
        "def update(parameters,grades,lr=0.01):\n",
        "\n",
        "  W1=parameters[\"W1\"]\n",
        "  b1=parameters[\"b1\"]\n",
        "  W2=parameters[\"W2\"]\n",
        "  b2=parameters[\"b2\"]\n",
        "\n",
        "  dW1=grades[\"dW1\"]\n",
        "  db1=grades[\"db1\"]\n",
        "  dW2=grades[\"dW2\"]\n",
        "  db2=grades[\"db2\"]\n",
        "\n",
        "\n",
        "  W1=W1-lr*dW1\n",
        "  b1=b1-lr*db1\n",
        "  W2=W2-lr*dW2\n",
        "  b2=b2-lr*db2\n",
        "\n",
        "  parameters={\"W1\":W1,\"b1\":b1,\"W2\":W2,\"b2\":b2}\n",
        "\n",
        "  return parameters\n",
        "\n",
        "def NN(X,Y,itr=10000,print_cost=False):\n",
        "  np.random.seed(3)\n",
        "  n_x=layer_sizes(X, Y)[0]\n",
        "  n_y=layer_sizes(X, Y)[2]\n",
        "  n_h=layer_sizes(X, Y)[1]\n",
        "\n",
        "  parameters=initialize_parameters(n_x, n_h, n_y)\n",
        "\n",
        "  for i in range (0,itr):\n",
        "    A2, cache = forward_propagation(X, parameters)\n",
        "    cost=compute_cost(A2, Y, parameters)\n",
        "    grades=BWP(parameters,cache,X,Y)\n",
        "    parameters=update(parameters,grades,lr=0.01)\n",
        "\n",
        "    if print_cost and i%100==0:\n",
        "      print(\"cost % i:%f\" %(i,cost))\n",
        "\n",
        "  return parameters\n"
      ],
      "metadata": {
        "id": "rkdIvLHO-drR"
      },
      "execution_count": null,
      "outputs": []
    },
    {
      "cell_type": "code",
      "source": [
        "NN(X,Y,itr=10000,print_cost=True)"
      ],
      "metadata": {
        "colab": {
          "base_uri": "https://localhost:8080/"
        },
        "id": "fhl8AuNE-72Y",
        "outputId": "b8a02348-3a28-4852-d45d-cabcb55955b9"
      },
      "execution_count": null,
      "outputs": [
        {
          "output_type": "stream",
          "name": "stdout",
          "text": [
            "cost  0:0.690543\n",
            "cost  100:0.238361\n",
            "cost  200:0.132101\n",
            "cost  300:0.089524\n",
            "cost  400:0.067207\n",
            "cost  500:0.053613\n",
            "cost  600:0.044512\n",
            "cost  700:0.038011\n",
            "cost  800:0.033143\n",
            "cost  900:0.029367\n",
            "cost  1000:0.026354\n",
            "cost  1100:0.023896\n",
            "cost  1200:0.021854\n",
            "cost  1300:0.020130\n",
            "cost  1400:0.018656\n",
            "cost  1500:0.017381\n",
            "cost  1600:0.016269\n",
            "cost  1700:0.015289\n",
            "cost  1800:0.014420\n",
            "cost  1900:0.013644\n",
            "cost  2000:0.012946\n",
            "cost  2100:0.012316\n",
            "cost  2200:0.011745\n",
            "cost  2300:0.011223\n",
            "cost  2400:0.010746\n",
            "cost  2500:0.010307\n",
            "cost  2600:0.009903\n",
            "cost  2700:0.009529\n",
            "cost  2800:0.009182\n",
            "cost  2900:0.008860\n",
            "cost  3000:0.008559\n",
            "cost  3100:0.008278\n",
            "cost  3200:0.008015\n",
            "cost  3300:0.007768\n",
            "cost  3400:0.007535\n",
            "cost  3500:0.007316\n",
            "cost  3600:0.007110\n",
            "cost  3700:0.006914\n",
            "cost  3800:0.006730\n",
            "cost  3900:0.006554\n",
            "cost  4000:0.006388\n",
            "cost  4100:0.006230\n",
            "cost  4200:0.006079\n",
            "cost  4300:0.005936\n",
            "cost  4400:0.005799\n",
            "cost  4500:0.005668\n",
            "cost  4600:0.005543\n",
            "cost  4700:0.005423\n",
            "cost  4800:0.005309\n",
            "cost  4900:0.005199\n",
            "cost  5000:0.005094\n",
            "cost  5100:0.004992\n",
            "cost  5200:0.004895\n",
            "cost  5300:0.004802\n",
            "cost  5400:0.004711\n",
            "cost  5500:0.004625\n",
            "cost  5600:0.004541\n",
            "cost  5700:0.004460\n",
            "cost  5800:0.004383\n",
            "cost  5900:0.004307\n",
            "cost  6000:0.004235\n",
            "cost  6100:0.004164\n",
            "cost  6200:0.004097\n",
            "cost  6300:0.004031\n",
            "cost  6400:0.003967\n",
            "cost  6500:0.003905\n",
            "cost  6600:0.003845\n",
            "cost  6700:0.003787\n",
            "cost  6800:0.003731\n",
            "cost  6900:0.003676\n",
            "cost  7000:0.003623\n",
            "cost  7100:0.003572\n",
            "cost  7200:0.003522\n",
            "cost  7300:0.003473\n",
            "cost  7400:0.003425\n",
            "cost  7500:0.003379\n",
            "cost  7600:0.003334\n",
            "cost  7700:0.003291\n",
            "cost  7800:0.003248\n",
            "cost  7900:0.003206\n",
            "cost  8000:0.003166\n",
            "cost  8100:0.003127\n",
            "cost  8200:0.003088\n",
            "cost  8300:0.003050\n",
            "cost  8400:0.003014\n",
            "cost  8500:0.002978\n",
            "cost  8600:0.002943\n",
            "cost  8700:0.002909\n",
            "cost  8800:0.002876\n",
            "cost  8900:0.002843\n",
            "cost  9000:0.002811\n",
            "cost  9100:0.002780\n",
            "cost  9200:0.002749\n",
            "cost  9300:0.002720\n",
            "cost  9400:0.002690\n",
            "cost  9500:0.002662\n",
            "cost  9600:0.002634\n",
            "cost  9700:0.002606\n",
            "cost  9800:0.002580\n",
            "cost  9900:0.002553\n"
          ]
        },
        {
          "output_type": "execute_result",
          "data": {
            "text/plain": [
              "{'W1': array([[-0.00416758, -0.00056267, -0.02136196, ..., -0.01687754,\n",
              "         -0.00355758, -0.00492616],\n",
              "        [-0.02449075, -0.00908777, -0.00761302, ...,  0.00109996,\n",
              "         -0.00636792,  0.01096642],\n",
              "        [-0.01328851, -0.0156438 , -0.00468062, ..., -0.01027126,\n",
              "         -0.00560166, -0.01292701],\n",
              "        [ 0.00271862, -0.0016892 ,  0.00815496, ..., -0.006457  ,\n",
              "         -0.01096017, -0.00890402]]), 'b1': array([[0.],\n",
              "        [0.],\n",
              "        [0.],\n",
              "        [0.]]), 'W2': array([[-1.51062865,  1.51713751, -1.48363861, -1.46782781]]), 'b2': array([[-7.44803524e-17]])}"
            ]
          },
          "metadata": {},
          "execution_count": 36
        }
      ]
    },
    {
      "cell_type": "code",
      "source": [],
      "metadata": {
        "id": "52aHvK-n-96o"
      },
      "execution_count": null,
      "outputs": []
    }
  ]
}